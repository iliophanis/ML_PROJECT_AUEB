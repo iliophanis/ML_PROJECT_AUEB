{
 "cells": [
  {
   "cell_type": "markdown",
   "metadata": {
    "collapsed": true
   },
   "source": [
    "# Lab3 - Machine Learning\n",
    "## Multiclass Classification \n"
   ]
  },
  {
   "cell_type": "markdown",
   "metadata": {},
   "source": [
    "Most of the times we encounter problems that are not binary. E.x. imagine you're given a photo and your task is to predict if it contains one of the following categories:\n",
    "    - dog,\n",
    "    - cat\n",
    "    - horse\n",
    "    - duck\n",
    "    - etc etc\n",
    "Given $K$ classes, you would like to assign $1$ class per data point."
   ]
  },
  {
   "cell_type": "markdown",
   "metadata": {},
   "source": [
    "<h2> Multi-class classification for Logistic Regression </h2>"
   ]
  },
  {
   "cell_type": "markdown",
   "metadata": {},
   "source": [
    "- Given $K$ klasses a straightforward way is to train $K$ binary classifiers.\n",
    "    - One - Versus all\n",
    "    - One class belongs to the positive category, the rest belongs to the negative category\n",
    "- Then given a new data point $x$, we predict that the data point $x$ belongs to the class $i=\\{1,2,...,k\\}$ based on which classifier outputted the highest probability.\n",
    "\n",
    "![title](img/onevsall.png)"
   ]
  },
  {
   "cell_type": "markdown",
   "metadata": {},
   "source": [
    "<h2> Multi-class classification with Neural Networks </h2>"
   ]
  },
  {
   "cell_type": "markdown",
   "metadata": {},
   "source": [
    "At Neural Networks we \"force\" the output of the $K$ units to be a discrete probability distribution over $K$ classes.\n",
    "\n",
    "\n",
    "A probability distribution is valid if and only if the values of the output units:\n",
    "\n",
    "1) must be non-negative\n",
    "\n",
    "2) must sum to 1\n",
    "\n",
    "\n",
    "\n",
    "$z \\in \\mathcal{R}^{Kx1}:$ the feature vector of the neural network(final output).\n",
    "\n",
    "We can convert $z$ to probabilities with the softmax function\n",
    "\n",
    "$$softmax(z) = \\frac{ e^{z} }{ \\sum_{i=1}^{k} e^{ z_{i} } } = \\{  \\frac{ e^{z_1} }{ \\sum_{i=1}^{k} e^{ z_{i} } }, \\frac{ e^{z_2} }{ \\sum_{i=1}^{k} e^{ z_{i} } }, \\dots, \\frac{ e^{z_K} }{ \\sum_{i=1}^{k} e^{ z_{i} } } \\} $$\n",
    "\n",
    "- Each unit is exponetiated\n",
    "- exp is always positive\n",
    "- The we normalize each unit to 0-1"
   ]
  },
  {
   "cell_type": "markdown",
   "metadata": {},
   "source": [
    "<h2> One hot vectors </h2>"
   ]
  },
  {
   "cell_type": "markdown",
   "metadata": {},
   "source": [
    "A binary vector of length K, where each value is 0 except for the class it belongs, the value is 1."
   ]
  },
  {
   "cell_type": "markdown",
   "metadata": {},
   "source": [
    "$t_{nk} \\in \\{ 0,1 \\}, \\sum_{k=1}^{K} t_{nk} = 1$"
   ]
  },
  {
   "cell_type": "markdown",
   "metadata": {},
   "source": [
    "Example of k=3 classes\n",
    "\n",
    "\\begin{equation}\n",
    "\\begin{bmatrix}\n",
    "    1\\\\\n",
    "    0\\\\\n",
    "    0\n",
    "\\end{bmatrix},\n",
    "\\begin{bmatrix}\n",
    "    0\\\\\n",
    "    1\\\\\n",
    "    0\n",
    "\\end{bmatrix},\n",
    "\\begin{bmatrix}\n",
    "    0\\\\\n",
    "    0\\\\\n",
    "    1\n",
    "\\end{bmatrix}\n",
    "\\end{equation}"
   ]
  },
  {
   "cell_type": "markdown",
   "metadata": {},
   "source": [
    "### Model"
   ]
  },
  {
   "cell_type": "markdown",
   "metadata": {},
   "source": [
    "Likelihood\n",
    "$$p( T | W ) = \\sum_{n=1}^{N} \\sum_{k=1}^{K} y_{nk}^{t_{nk}}$$"
   ]
  },
  {
   "cell_type": "markdown",
   "metadata": {},
   "source": [
    "The cost function (logLikelihood plus reguralization term) we want to maximize for the problem of classifying N number of data in K categories/classes is:\n",
    "\n",
    "$$\n",
    "E(W) = \\sum_{n=1}^N \\sum_{k=1}^K t_{nk} \\log y_{nk}   -  \\frac{\\lambda}{2} \\sum_{k=1}^K ||\\mathbf{w_k}||^2, \n",
    "$$\n",
    "\n",
    "where $y_{nk}$ is the softmax function defined as:\n",
    "\n",
    "$$y_{nk} = \\frac{e^{\\mathbf{w}_k^T \\mathbf{x}_n}}{\\sum_{j=1}^K e^{\\mathbf{w}_j^T \\mathbf{x}_n}}$$\n",
    "$W$ is a $K \\times (D+1)$ matrix where each line represents the vector $\\mathbf{w}_k$.\n",
    "\n",
    "\n",
    "The cost function can be simplified in the following form:\n",
    "\n",
    "\n",
    "\n",
    "$$\n",
    "E(W) = \\sum_{n=1}^N \\left[ \\left( \\sum_{k=1}^K t_{nk} \\mathbf{w}_k^T \\mathbf{x}_n \\right) - \\log \\left( \\sum_{j=1}^K e^{\\mathbf{w}_j^T \\mathbf{x}_n} \\right) \\right]   -  \\frac{\\lambda}{2} \\sum_{k=1}^K ||\\mathbf{w}_k||^2, \n",
    "$$\n",
    "\n",
    "\n",
    "\n",
    "In the above formula we have used the fact that $\\sum_{k=1}^K t_{nk} = 1$. \n",
    "\n",
    "The partial derrivatives of this function are given by the following $K \\times (D+1)$ matrix:\n",
    "\n",
    "$$\n",
    "(T - S)^Τ X - \\lambda W,\n",
    "$$\n",
    "\n",
    "where $T$ is an $N \\times K$ matrix with the truth values of the training data, such that $[T]_{nk} = t_{nk}$, $S$ is the corresponding $N \\times K$ matrix that holds the softmax probabilities such that $[S]_{nk} = y_{nk}$ and $X$ is the $N \\times (D + 1)$ matrix of the input data"
   ]
  },
  {
   "cell_type": "code",
   "execution_count": 1,
   "metadata": {
    "scrolled": true
   },
   "outputs": [],
   "source": [
    "import numpy as np\n",
    "import pandas as pd\n",
    "import matplotlib.pyplot as plt\n",
    "%matplotlib inline"
   ]
  },
  {
   "cell_type": "markdown",
   "metadata": {},
   "source": [
    "<h2> Softmax </h2>"
   ]
  },
  {
   "cell_type": "code",
   "execution_count": 2,
   "metadata": {
    "scrolled": true
   },
   "outputs": [],
   "source": [
    "#use by default ax=1, when the array is 2D\n",
    "#use ax=0 when the array is 1D\n",
    "def softmax( x, ax=1 ):\n",
    "    m = np.max( x, axis=ax, keepdims=True )#max per row\n",
    "    p = np.exp( x - m )\n",
    "    return ( p / np.sum(p,axis=ax,keepdims=True) )"
   ]
  },
  {
   "cell_type": "markdown",
   "metadata": {},
   "source": [
    "2D case"
   ]
  },
  {
   "cell_type": "code",
   "execution_count": 3,
   "metadata": {},
   "outputs": [],
   "source": [
    "z = np.array( [ [10,20,30,40], [20,50,45,45], [983,39,57,752], [574,575,597,525] ] )"
   ]
  },
  {
   "cell_type": "code",
   "execution_count": 4,
   "metadata": {},
   "outputs": [
    {
     "data": {
      "text/plain": [
       "array([[ 10,  20,  30,  40],\n",
       "       [ 20,  50,  45,  45],\n",
       "       [983,  39,  57, 752],\n",
       "       [574, 575, 597, 525]])"
      ]
     },
     "execution_count": 4,
     "metadata": {},
     "output_type": "execute_result"
    }
   ],
   "source": [
    "z"
   ]
  },
  {
   "cell_type": "code",
   "execution_count": 5,
   "metadata": {},
   "outputs": [
    {
     "data": {
      "text/html": [
       "<div>\n",
       "<style scoped>\n",
       "    .dataframe tbody tr th:only-of-type {\n",
       "        vertical-align: middle;\n",
       "    }\n",
       "\n",
       "    .dataframe tbody tr th {\n",
       "        vertical-align: top;\n",
       "    }\n",
       "\n",
       "    .dataframe thead th {\n",
       "        text-align: right;\n",
       "    }\n",
       "</style>\n",
       "<table border=\"1\" class=\"dataframe\">\n",
       "  <thead>\n",
       "    <tr style=\"text-align: right;\">\n",
       "      <th></th>\n",
       "      <th>0</th>\n",
       "      <th>1</th>\n",
       "      <th>2</th>\n",
       "      <th>3</th>\n",
       "    </tr>\n",
       "  </thead>\n",
       "  <tbody>\n",
       "    <tr>\n",
       "      <th>0</th>\n",
       "      <td>9.357198e-14</td>\n",
       "      <td>2.061060e-09</td>\n",
       "      <td>0.000045</td>\n",
       "      <td>9.999546e-01</td>\n",
       "    </tr>\n",
       "    <tr>\n",
       "      <th>1</th>\n",
       "      <td>9.233197e-14</td>\n",
       "      <td>9.867033e-01</td>\n",
       "      <td>0.006648</td>\n",
       "      <td>6.648354e-03</td>\n",
       "    </tr>\n",
       "    <tr>\n",
       "      <th>2</th>\n",
       "      <td>1.000000e+00</td>\n",
       "      <td>0.000000e+00</td>\n",
       "      <td>0.000000</td>\n",
       "      <td>4.764032e-101</td>\n",
       "    </tr>\n",
       "    <tr>\n",
       "      <th>3</th>\n",
       "      <td>1.026188e-10</td>\n",
       "      <td>2.789468e-10</td>\n",
       "      <td>1.000000</td>\n",
       "      <td>5.380186e-32</td>\n",
       "    </tr>\n",
       "  </tbody>\n",
       "</table>\n",
       "</div>"
      ],
      "text/plain": [
       "              0             1         2              3\n",
       "0  9.357198e-14  2.061060e-09  0.000045   9.999546e-01\n",
       "1  9.233197e-14  9.867033e-01  0.006648   6.648354e-03\n",
       "2  1.000000e+00  0.000000e+00  0.000000  4.764032e-101\n",
       "3  1.026188e-10  2.789468e-10  1.000000   5.380186e-32"
      ]
     },
     "execution_count": 5,
     "metadata": {},
     "output_type": "execute_result"
    }
   ],
   "source": [
    "pd.DataFrame( softmax( z ) )"
   ]
  },
  {
   "cell_type": "markdown",
   "metadata": {},
   "source": [
    "1D case\n",
    "\n",
    "Let's take an example where all values are equal. As expected everything is 1 / |z|."
   ]
  },
  {
   "cell_type": "code",
   "execution_count": 6,
   "metadata": {},
   "outputs": [
    {
     "data": {
      "text/plain": [
       "array([0.25, 0.25, 0.25, 0.25])"
      ]
     },
     "execution_count": 6,
     "metadata": {},
     "output_type": "execute_result"
    }
   ],
   "source": [
    "z = np.array( [1,1,1,1] )\n",
    "softmax( z, ax=0 )"
   ]
  },
  {
   "cell_type": "markdown",
   "metadata": {},
   "source": [
    "<h2> Mnist Dataset </h2>"
   ]
  },
  {
   "cell_type": "markdown",
   "metadata": {},
   "source": [
    "In the data folder there is the dataset of mnist. Mnists consists of $28x28$ grayscale images. In total there are 10 training files\n",
    "train0.txt, train1.txt, ..., train9.txt where each rows of train$k$.txt corresponds to an example that belongs to the class $k$.\n",
    "\n",
    "The testing data follows the same format.\n",
    "\n",
    "In total we have $6*10^5$ training examples and $10^3$ testing examples"
   ]
  },
  {
   "cell_type": "code",
   "execution_count": 12,
   "metadata": {
    "scrolled": true
   },
   "outputs": [],
   "source": [
    "def load_data():\n",
    "    \"\"\"\n",
    "    Load the MNIST dataset. Reads the training and testing files and create matrices.\n",
    "    :Expected return:\n",
    "    train_data:the matrix with the training data\n",
    "    test_data: the matrix with the data that will be used for testing\n",
    "    y_train: the matrix consisting of one \n",
    "                        hot vectors on each row(ground truth for training)\n",
    "    y_test: the matrix consisting of one\n",
    "                        hot vectors on each row(ground truth for testing)\n",
    "    \"\"\"\n",
    "    \n",
    "    #load the train files\n",
    "    df = None\n",
    "    \n",
    "    y_train = []\n",
    "\n",
    "    for i in range( 10 ):\n",
    "        tmp = pd.read_csv( 'data/mnist/train%d.txt' % i, header=None, sep=\" \" )\n",
    "        #build labels - one hot vector\n",
    "        hot_vector = [ 1 if j == i else 0 for j in range(0,10) ]\n",
    "        \n",
    "        for j in range( tmp.shape[0] ):\n",
    "            y_train.append( hot_vector )\n",
    "        #concatenate dataframes by rows    \n",
    "        if i == 0:\n",
    "            df = tmp\n",
    "        else:\n",
    "            df = pd.concat( [df, tmp] )\n",
    "\n",
    "    train_data = df.to_numpy()\n",
    "    y_train = np.array( y_train )\n",
    "    \n",
    "    #load test files\n",
    "    df = None\n",
    "    \n",
    "    y_test = []\n",
    "\n",
    "    for i in range( 10 ):\n",
    "        tmp = pd.read_csv( 'data/mnist/test%d.txt' % i, header=None, sep=\" \" )\n",
    "        #build labels - one hot vector\n",
    "        \n",
    "        hot_vector = [ 1 if j == i else 0 for j in range(0,10) ]\n",
    "        \n",
    "        for j in range( tmp.shape[0] ):\n",
    "            y_test.append( hot_vector )\n",
    "        #concatenate dataframes by rows    \n",
    "        if i == 0:\n",
    "            df = tmp\n",
    "        else:\n",
    "            df = pd.concat( [df, tmp] )\n",
    "\n",
    "    test_data = df.to_numpy()\n",
    "    y_test = np.array( y_test )\n",
    "    \n",
    "    return train_data, test_data, y_train, y_test"
   ]
  },
  {
   "cell_type": "markdown",
   "metadata": {},
   "source": [
    "Load the dataset"
   ]
  },
  {
   "cell_type": "code",
   "execution_count": 13,
   "metadata": {},
   "outputs": [],
   "source": [
    "X_train, X_test, y_train, y_test = load_data()"
   ]
  },
  {
   "cell_type": "markdown",
   "metadata": {},
   "source": [
    "<h2> View of the dataset </h2>"
   ]
  },
  {
   "cell_type": "code",
   "execution_count": 14,
   "metadata": {},
   "outputs": [
    {
     "name": "stderr",
     "output_type": "stream",
     "text": [
      "/home/sotirisnik/anaconda3/lib/python3.7/site-packages/ipykernel_launcher.py:12: MatplotlibDeprecationWarning: Adding an axes using the same arguments as a previous axes currently reuses the earlier instance.  In a future version, a new instance will always be created and returned.  Meanwhile, this warning can be suppressed, and the future behavior ensured, by passing a unique label to each axes instance.\n",
      "  if sys.path[0] == '':\n"
     ]
    },
    {
     "data": {
      "image/png": "[encoded data removed]",
      "text/plain": [
       "<Figure size 792x792 with 100 Axes>"
      ]
     },
     "metadata": {
      "needs_background": "light"
     },
     "output_type": "display_data"
    }
   ],
   "source": [
    "# plot 5 random images from the training set\n",
    "n = 100\n",
    "sqrt_n = int( n**0.5 )\n",
    "samples = np.random.randint(X_train.shape[0], size=n)\n",
    "\n",
    "plt.figure( figsize=(11,11) )\n",
    "\n",
    "cnt = 0\n",
    "for i in samples:\n",
    "    cnt += 1\n",
    "    plt.subplot( sqrt_n, sqrt_n, cnt )\n",
    "    plt.subplot( sqrt_n, sqrt_n, cnt ).axis('off')\n",
    "    plt.imshow( X_train[i].reshape(28,28), cmap='gray'  )\n",
    "\n",
    "plt.show()"
   ]
  },
  {
   "cell_type": "markdown",
   "metadata": {},
   "source": [
    "<h2> Normalize the dataset </h2>"
   ]
  },
  {
   "cell_type": "code",
   "execution_count": 15,
   "metadata": {},
   "outputs": [],
   "source": [
    "X_train = X_train.astype(float)/255\n",
    "X_test = X_test.astype(float)/255"
   ]
  },
  {
   "cell_type": "markdown",
   "metadata": {},
   "source": [
    "Add column of ones to the dataset"
   ]
  },
  {
   "cell_type": "code",
   "execution_count": 11,
   "metadata": {},
   "outputs": [],
   "source": [
    "X_train = np.hstack( (np.ones((X_train.shape[0],1) ), X_train) )\n",
    "X_test = np.hstack( (np.ones((X_test.shape[0],1) ), X_test) )"
   ]
  },
  {
   "cell_type": "markdown",
   "metadata": {},
   "source": [
    "For the cost function\n",
    "\n",
    "$$E(w)=\\sum_{n=1}^N \\sum_{k=1}^K t_{nk} \\log( y_{nk} )-  \\frac{\\lambda}{2} ||\\mathbf{w}||^2, \n",
    "$$\n",
    "\n",
    "$$\n",
    "E(w) = \\sum_{n=1}^N \\left[ \\left( \\sum_{k=1}^K t_{nk} \\mathbf{w}_k^T \\mathbf{x}_n \\right) - \\log \\left( \\sum_{j=1}^K e^{\\mathbf{w}_j^T \\mathbf{x}_n} \\right) \\right]   -  \\frac{\\lambda}{2} ||\\mathbf{w}||^2, \n",
    "$$\n",
    "\n",
    "$$ \\frac{ \\partial E(w) }{ \\partial w } = (T-Y)^{T} X - \\lambda w$$\n",
    "\n",
    "\n",
    "we can also use the logsumexp trick, where m is the maximum element for numerical stability\n",
    "\\begin{align} \n",
    "\\log \\sum_{i=1}^{n} e^{\\mathbf{w}_j^T \\mathbf{x}_n} &= \\log \\Bigr( \\sum_{i=1}^{n} e^{\\mathbf{w}_j^T \\mathbf{x}_n +m -m}\\Bigl) \\\\ \n",
    "&= \\log \\Bigr( \\sum_{i=1}^{n} e^m e^{\\mathbf{w}_j^T \\mathbf{x}_n-m} ) \\Bigl) \\\\ \n",
    "&= \\log \\Bigr( e^m \\sum_{i=1}^{n} e^{\\mathbf{w}_j^T \\mathbf{x}_n-m} ) \\Bigl) \\\\ \n",
    "&= \\log \\ e^m + \\log \\Bigr( \\sum_{i=1}^{n} e^{\\mathbf{w}_j^T \\mathbf{x}_n-m} ) \\Bigl) \\\\ \n",
    "&= m + \\log \\Bigr( \\sum_{i=1} e^{\\mathbf{w}_j^T \\mathbf{x}_n-m}  \\Bigl) \n",
    "\\end{align}"
   ]
  },
  {
   "cell_type": "code",
   "execution_count": 24,
   "metadata": {},
   "outputs": [
    {
     "data": {
      "text/plain": [
       "((60000, 784), (10, 784))"
      ]
     },
     "execution_count": 24,
     "metadata": {},
     "output_type": "execute_result"
    }
   ],
   "source": [
    "X_train.shape, Winit.shape"
   ]
  },
  {
   "cell_type": "code",
   "execution_count": 88,
   "metadata": {},
   "outputs": [],
   "source": [
    "N, D = X_train.shape\n",
    "K = 10\n",
    "Winit = 0.5 * np.ones((K, D))"
   ]
  },
  {
   "cell_type": "code",
   "execution_count": 89,
   "metadata": {
    "scrolled": true
   },
   "outputs": [],
   "source": [
    "def cost_grad_softmax(W, X, t, lamda):\n",
    "    \n",
    "    #X: NxD\n",
    "    #W: KxD\n",
    "    #t: NxD\n",
    "    \n",
    "    E = 0\n",
    "    N, D = X.shape\n",
    "    K = t.shape[1]\n",
    "    gradEW = np.zeros_like( (K,D) )\n",
    "    \n",
    "    return E, gradEw"
   ]
  },
  {
   "cell_type": "code",
   "execution_count": 90,
   "metadata": {},
   "outputs": [
    {
     "data": {
      "text/plain": [
       "(-138277.60557972503,\n",
       " array([[-0.0625, -0.0625, -0.0625, ..., -0.0625, -0.0625, -0.0625],\n",
       "        [-0.0625, -0.0625, -0.0625, ..., -0.0625, -0.0625, -0.0625],\n",
       "        [-0.0625, -0.0625, -0.0625, ..., -0.0625, -0.0625, -0.0625],\n",
       "        ...,\n",
       "        [-0.0625, -0.0625, -0.0625, ..., -0.0625, -0.0625, -0.0625],\n",
       "        [-0.0625, -0.0625, -0.0625, ..., -0.0625, -0.0625, -0.0625],\n",
       "        [-0.0625, -0.0625, -0.0625, ..., -0.0625, -0.0625, -0.0625]]))"
      ]
     },
     "execution_count": 90,
     "metadata": {},
     "output_type": "execute_result"
    }
   ],
   "source": [
    "cost_grad_softmax(Winit,X_train,y_train,0.125)"
   ]
  },
  {
   "cell_type": "raw",
   "metadata": {},
   "source": [
    "Expected output\n",
    "\n",
    "(-138277.60557972503,\n",
    " array([[-0.0625, -0.0625, -0.0625, ..., -0.0625, -0.0625, -0.0625],\n",
    "        [-0.0625, -0.0625, -0.0625, ..., -0.0625, -0.0625, -0.0625],\n",
    "        [-0.0625, -0.0625, -0.0625, ..., -0.0625, -0.0625, -0.0625],\n",
    "        ...,\n",
    "        [-0.0625, -0.0625, -0.0625, ..., -0.0625, -0.0625, -0.0625],\n",
    "        [-0.0625, -0.0625, -0.0625, ..., -0.0625, -0.0625, -0.0625],\n",
    "        [-0.0625, -0.0625, -0.0625, ..., -0.0625, -0.0625, -0.0625]]))"
   ]
  },
  {
   "cell_type": "code",
   "execution_count": null,
   "metadata": {},
   "outputs": [],
   "source": []
  },
  {
   "cell_type": "code",
   "execution_count": null,
   "metadata": {},
   "outputs": [],
   "source": []
  },
  {
   "cell_type": "code",
   "execution_count": 72,
   "metadata": {
    "scrolled": true
   },
   "outputs": [],
   "source": [
    "def ml_softmax_train(t, X, lamda, Winit, options):\n",
    "    \"\"\"inputs :\n",
    "      t: N x 1 binary output data vector indicating the two classes\n",
    "      X: N x (D+1) input data vector with ones already added in the first column\n",
    "      lamda: the positive regularizarion parameter\n",
    "      winit: D+1 dimensional vector of the initial values of the parameters\n",
    "      options: options(1) is the maximum number of iterations\n",
    "               options(2) is the tolerance\n",
    "               options(3) is the learning rate eta\n",
    "    outputs :\n",
    "      w: the trained D+1 dimensional vector of the parameters\"\"\"\n",
    "\n",
    "    W = Winit\n",
    "\n",
    "    # Maximum number of iteration of gradient ascend\n",
    "    _iter = options[0]\n",
    "\n",
    "    # Tolerance\n",
    "    tol = options[1]\n",
    "\n",
    "    # Learning rate\n",
    "    eta = options[2]\n",
    "\n",
    "    Ewold = -np.inf\n",
    "    costs = []\n",
    "    for i in range( 1, _iter+1 ):\n",
    "        Ew, gradEw = cost_grad_softmax(W, X, t, lamda)\n",
    "        # save cost\n",
    "        costs.append(Ew)\n",
    "        # Show the current cost function on screen\n",
    "        if i % 50 == 0:\n",
    "            print('Iteration : %d, Cost function :%f' % (i, Ew))\n",
    "\n",
    "        # Break if you achieve the desired accuracy in the cost function\n",
    "        if np.abs(Ew - Ewold) < tol:\n",
    "            break\n",
    "                \n",
    "        # Update parameters based on gradient ascend\n",
    "        W = W + eta * gradEw\n",
    "\n",
    "        Ewold = Ew\n",
    "\n",
    "    return W, costs"
   ]
  },
  {
   "cell_type": "markdown",
   "metadata": {},
   "source": [
    "### Gradient checking\n",
    "\n",
    "\n",
    "During gradient ascent/descent we compute the gradients $\\frac{\\partial E}{\\partial w}$, where $w$ denotes the parameters of the model.\n",
    "\n",
    "In order to make sure that these gradients are correct we will compare the exact gradients(that we have coded) with numerical estimates obtained by finite differences, you can use your code for computing $E$ to verify the code for computing $\\frac{\\partial E}{\\partial w}$.\n",
    "    Let's look back at the definition of a derivative (or gradient):\n",
    "    \n",
    "$$ \\frac{\\partial E}{\\partial w} = \\lim_{\\varepsilon \\to 0} \\frac{E(w + \\varepsilon) - E(w - \\varepsilon)}{2 \\varepsilon} \\tag{1}$$  \n",
    "\n",
    "We know the following: \n",
    "- $\\frac{\\partial E}{\\partial w}$ is what you want to make sure you're computing correctly. ,\n",
    "- You can compute $E(w + \\varepsilon)$ and $E(w - \\varepsilon)$ (in the case that $w$ is a real number), since you're confident your implementation for $E$ is correct.\n",
    "\n",
    "Let's use equation (1) and a small value ( around $10^-4$ or $10^-6$, much smaller values could lead to numerical issues )for $\\varepsilon$ to make sure that your code for computing  $\\frac{\\partial E}{\\partial w}$ is correct!\n",
    "\n",
    "![title](img/grad.png)"
   ]
  },
  {
   "cell_type": "code",
   "execution_count": 91,
   "metadata": {
    "scrolled": true
   },
   "outputs": [],
   "source": [
    "def gradcheck_softmax(Winit, X, t, lamda):\n",
    "    \n",
    "    W = np.random.rand(*Winit.shape)\n",
    "    epsilon = 1e-6\n",
    "    \n",
    "    _list = np.random.randint(X.shape[0], size=5)\n",
    "    x_sample = np.array(X[_list, :])\n",
    "    t_sample = np.array(t[_list, :])\n",
    "    \n",
    "    Ew, gradEw = cost_grad_softmax(W, x_sample, t_sample, lamda)\n",
    "    \n",
    "    print( \"gradEw shape: \", gradEw.shape )\n",
    "    \n",
    "    numericalGrad = np.zeros(gradEw.shape)\n",
    "    # Compute all numerical gradient estimates and store them in\n",
    "    # the matrix numericalGrad\n",
    "    for k in range(numericalGrad.shape[0]):\n",
    "        for d in range(numericalGrad.shape[1]):\n",
    "            \n",
    "            #add epsilon to the w[k,d]\n",
    "            w_tmp = np.copy(W)\n",
    "            w_tmp[k, d] += epsilon\n",
    "            e_plus, _ = cost_grad_softmax(w_tmp, x_sample, t_sample, lamda)\n",
    "\n",
    "            #subtract epsilon to the w[k,d]\n",
    "            w_tmp = np.copy(W)\n",
    "            w_tmp[k, d] -= epsilon\n",
    "            e_minus, _ = cost_grad_softmax( w_tmp, x_sample, t_sample, lamda)\n",
    "            \n",
    "            #approximate gradient ( E[ w[k,d] + theta ] - E[ w[k,d] - theta ] ) / 2*e\n",
    "            numericalGrad[k, d] = (e_plus - e_minus) / (2 * epsilon)\n",
    "    \n",
    "    return ( gradEw, numericalGrad )\n",
    "    "
   ]
  },
  {
   "cell_type": "code",
   "execution_count": 92,
   "metadata": {},
   "outputs": [
    {
     "name": "stdout",
     "output_type": "stream",
     "text": [
      "gradEw shape:  (10, 784)\n",
      "The difference estimate for gradient of w is :  3.483736818465921e-08\n"
     ]
    }
   ],
   "source": [
    "N, D = X_train.shape\n",
    "\n",
    "K = 10#num of classes\n",
    "\n",
    "# initialize w for the gradient ascent\n",
    "Winit = np.zeros((K, D))\n",
    "\n",
    "# regularization parameter\n",
    "lamda = 0.1\n",
    "\n",
    "# options for gradient descent\n",
    "options = [500, 1e-6, 0.5/N]# Maximum number of iteration of gradient ascend, Tolerance, Learning rate\n",
    "\n",
    "gradEw, numericalGrad = gradcheck_softmax(Winit, X_train, y_train, lamda)\n",
    "\n",
    "# Absolute norm\n",
    "print( \"The difference estimate for gradient of w is : \", np.max(np.abs(gradEw - numericalGrad)) )"
   ]
  },
  {
   "cell_type": "markdown",
   "metadata": {},
   "source": [
    "Let's view the first rows of the gradient and of the gradient checking"
   ]
  },
  {
   "cell_type": "markdown",
   "metadata": {},
   "source": [
    "#### The gradient values"
   ]
  },
  {
   "cell_type": "code",
   "execution_count": 93,
   "metadata": {},
   "outputs": [
    {
     "data": {
      "text/html": [
       "<div>\n",
       "<style scoped>\n",
       "    .dataframe tbody tr th:only-of-type {\n",
       "        vertical-align: middle;\n",
       "    }\n",
       "\n",
       "    .dataframe tbody tr th {\n",
       "        vertical-align: top;\n",
       "    }\n",
       "\n",
       "    .dataframe thead th {\n",
       "        text-align: right;\n",
       "    }\n",
       "</style>\n",
       "<table border=\"1\" class=\"dataframe\">\n",
       "  <thead>\n",
       "    <tr style=\"text-align: right;\">\n",
       "      <th></th>\n",
       "      <th>0</th>\n",
       "      <th>1</th>\n",
       "      <th>2</th>\n",
       "      <th>3</th>\n",
       "      <th>4</th>\n",
       "      <th>5</th>\n",
       "      <th>6</th>\n",
       "      <th>7</th>\n",
       "      <th>8</th>\n",
       "      <th>9</th>\n",
       "      <th>...</th>\n",
       "      <th>774</th>\n",
       "      <th>775</th>\n",
       "      <th>776</th>\n",
       "      <th>777</th>\n",
       "      <th>778</th>\n",
       "      <th>779</th>\n",
       "      <th>780</th>\n",
       "      <th>781</th>\n",
       "      <th>782</th>\n",
       "      <th>783</th>\n",
       "    </tr>\n",
       "  </thead>\n",
       "  <tbody>\n",
       "    <tr>\n",
       "      <th>0</th>\n",
       "      <td>-0.015678</td>\n",
       "      <td>-0.091679</td>\n",
       "      <td>-0.090821</td>\n",
       "      <td>-0.023645</td>\n",
       "      <td>-0.059812</td>\n",
       "      <td>-0.020168</td>\n",
       "      <td>-0.071616</td>\n",
       "      <td>-0.056675</td>\n",
       "      <td>-0.041285</td>\n",
       "      <td>-0.006681</td>\n",
       "      <td>...</td>\n",
       "      <td>-0.053273</td>\n",
       "      <td>-0.074741</td>\n",
       "      <td>-0.063982</td>\n",
       "      <td>-0.087836</td>\n",
       "      <td>-0.009737</td>\n",
       "      <td>-0.070373</td>\n",
       "      <td>-0.008279</td>\n",
       "      <td>-0.091316</td>\n",
       "      <td>-0.030536</td>\n",
       "      <td>-0.058513</td>\n",
       "    </tr>\n",
       "    <tr>\n",
       "      <th>1</th>\n",
       "      <td>-0.038528</td>\n",
       "      <td>-0.087584</td>\n",
       "      <td>-0.065773</td>\n",
       "      <td>-0.061763</td>\n",
       "      <td>-0.034675</td>\n",
       "      <td>-0.096319</td>\n",
       "      <td>-0.005376</td>\n",
       "      <td>-0.034821</td>\n",
       "      <td>-0.052166</td>\n",
       "      <td>-0.074759</td>\n",
       "      <td>...</td>\n",
       "      <td>-0.092199</td>\n",
       "      <td>-0.018297</td>\n",
       "      <td>-0.033259</td>\n",
       "      <td>-0.073719</td>\n",
       "      <td>-0.097689</td>\n",
       "      <td>-0.005035</td>\n",
       "      <td>-0.009377</td>\n",
       "      <td>-0.060589</td>\n",
       "      <td>-0.089320</td>\n",
       "      <td>-0.061819</td>\n",
       "    </tr>\n",
       "    <tr>\n",
       "      <th>2</th>\n",
       "      <td>-0.083274</td>\n",
       "      <td>-0.028820</td>\n",
       "      <td>-0.032125</td>\n",
       "      <td>-0.026979</td>\n",
       "      <td>-0.025701</td>\n",
       "      <td>-0.019264</td>\n",
       "      <td>-0.025596</td>\n",
       "      <td>-0.029051</td>\n",
       "      <td>-0.055570</td>\n",
       "      <td>-0.099635</td>\n",
       "      <td>...</td>\n",
       "      <td>-0.078284</td>\n",
       "      <td>-0.063445</td>\n",
       "      <td>-0.011224</td>\n",
       "      <td>-0.034325</td>\n",
       "      <td>-0.089650</td>\n",
       "      <td>-0.003487</td>\n",
       "      <td>-0.071366</td>\n",
       "      <td>-0.004575</td>\n",
       "      <td>-0.032885</td>\n",
       "      <td>-0.001986</td>\n",
       "    </tr>\n",
       "    <tr>\n",
       "      <th>3</th>\n",
       "      <td>-0.071260</td>\n",
       "      <td>-0.058424</td>\n",
       "      <td>-0.053596</td>\n",
       "      <td>-0.021879</td>\n",
       "      <td>-0.048471</td>\n",
       "      <td>-0.037383</td>\n",
       "      <td>-0.044728</td>\n",
       "      <td>-0.091197</td>\n",
       "      <td>-0.038294</td>\n",
       "      <td>-0.034426</td>\n",
       "      <td>...</td>\n",
       "      <td>-0.098754</td>\n",
       "      <td>-0.059964</td>\n",
       "      <td>-0.013110</td>\n",
       "      <td>-0.001752</td>\n",
       "      <td>-0.096417</td>\n",
       "      <td>-0.022852</td>\n",
       "      <td>-0.091007</td>\n",
       "      <td>-0.049297</td>\n",
       "      <td>-0.059632</td>\n",
       "      <td>-0.095661</td>\n",
       "    </tr>\n",
       "    <tr>\n",
       "      <th>4</th>\n",
       "      <td>-0.081359</td>\n",
       "      <td>-0.055488</td>\n",
       "      <td>-0.043532</td>\n",
       "      <td>-0.032643</td>\n",
       "      <td>-0.016712</td>\n",
       "      <td>-0.099873</td>\n",
       "      <td>-0.077954</td>\n",
       "      <td>-0.093928</td>\n",
       "      <td>-0.041358</td>\n",
       "      <td>-0.047088</td>\n",
       "      <td>...</td>\n",
       "      <td>-0.093188</td>\n",
       "      <td>-0.012503</td>\n",
       "      <td>-0.090127</td>\n",
       "      <td>-0.096273</td>\n",
       "      <td>-0.047611</td>\n",
       "      <td>-0.029785</td>\n",
       "      <td>-0.029176</td>\n",
       "      <td>-0.042954</td>\n",
       "      <td>-0.056103</td>\n",
       "      <td>-0.064027</td>\n",
       "    </tr>\n",
       "    <tr>\n",
       "      <th>5</th>\n",
       "      <td>-0.047461</td>\n",
       "      <td>-0.077474</td>\n",
       "      <td>-0.087137</td>\n",
       "      <td>-0.027025</td>\n",
       "      <td>-0.038820</td>\n",
       "      <td>-0.047307</td>\n",
       "      <td>-0.063466</td>\n",
       "      <td>-0.021383</td>\n",
       "      <td>-0.006790</td>\n",
       "      <td>-0.062703</td>\n",
       "      <td>...</td>\n",
       "      <td>-0.057263</td>\n",
       "      <td>-0.029767</td>\n",
       "      <td>-0.012173</td>\n",
       "      <td>-0.056766</td>\n",
       "      <td>-0.086015</td>\n",
       "      <td>-0.091683</td>\n",
       "      <td>-0.099110</td>\n",
       "      <td>-0.071590</td>\n",
       "      <td>-0.032279</td>\n",
       "      <td>-0.045839</td>\n",
       "    </tr>\n",
       "    <tr>\n",
       "      <th>6</th>\n",
       "      <td>-0.075979</td>\n",
       "      <td>-0.085251</td>\n",
       "      <td>-0.007022</td>\n",
       "      <td>-0.054240</td>\n",
       "      <td>-0.052677</td>\n",
       "      <td>-0.076861</td>\n",
       "      <td>-0.080426</td>\n",
       "      <td>-0.071267</td>\n",
       "      <td>-0.066214</td>\n",
       "      <td>-0.050116</td>\n",
       "      <td>...</td>\n",
       "      <td>-0.074836</td>\n",
       "      <td>-0.070925</td>\n",
       "      <td>-0.094778</td>\n",
       "      <td>-0.086619</td>\n",
       "      <td>-0.015053</td>\n",
       "      <td>-0.034413</td>\n",
       "      <td>-0.046129</td>\n",
       "      <td>-0.060461</td>\n",
       "      <td>-0.064466</td>\n",
       "      <td>-0.027755</td>\n",
       "    </tr>\n",
       "    <tr>\n",
       "      <th>7</th>\n",
       "      <td>-0.092094</td>\n",
       "      <td>-0.052068</td>\n",
       "      <td>-0.068159</td>\n",
       "      <td>-0.017725</td>\n",
       "      <td>-0.071703</td>\n",
       "      <td>-0.040671</td>\n",
       "      <td>-0.039796</td>\n",
       "      <td>-0.056860</td>\n",
       "      <td>-0.086811</td>\n",
       "      <td>-0.032494</td>\n",
       "      <td>...</td>\n",
       "      <td>-0.029587</td>\n",
       "      <td>-0.055156</td>\n",
       "      <td>-0.087651</td>\n",
       "      <td>-0.086442</td>\n",
       "      <td>-0.057887</td>\n",
       "      <td>-0.053353</td>\n",
       "      <td>-0.020576</td>\n",
       "      <td>-0.040260</td>\n",
       "      <td>-0.007311</td>\n",
       "      <td>-0.027274</td>\n",
       "    </tr>\n",
       "    <tr>\n",
       "      <th>8</th>\n",
       "      <td>-0.030607</td>\n",
       "      <td>-0.056881</td>\n",
       "      <td>-0.059872</td>\n",
       "      <td>-0.027086</td>\n",
       "      <td>-0.029832</td>\n",
       "      <td>-0.070907</td>\n",
       "      <td>-0.015091</td>\n",
       "      <td>-0.047505</td>\n",
       "      <td>-0.086298</td>\n",
       "      <td>-0.056246</td>\n",
       "      <td>...</td>\n",
       "      <td>-0.048617</td>\n",
       "      <td>-0.008293</td>\n",
       "      <td>-0.068981</td>\n",
       "      <td>-0.070252</td>\n",
       "      <td>-0.058920</td>\n",
       "      <td>-0.052436</td>\n",
       "      <td>-0.000150</td>\n",
       "      <td>-0.051018</td>\n",
       "      <td>-0.083980</td>\n",
       "      <td>-0.014524</td>\n",
       "    </tr>\n",
       "    <tr>\n",
       "      <th>9</th>\n",
       "      <td>-0.019152</td>\n",
       "      <td>-0.008020</td>\n",
       "      <td>-0.096971</td>\n",
       "      <td>-0.093192</td>\n",
       "      <td>-0.070732</td>\n",
       "      <td>-0.047672</td>\n",
       "      <td>-0.003554</td>\n",
       "      <td>-0.025387</td>\n",
       "      <td>-0.086959</td>\n",
       "      <td>-0.081189</td>\n",
       "      <td>...</td>\n",
       "      <td>-0.090470</td>\n",
       "      <td>-0.017878</td>\n",
       "      <td>-0.020336</td>\n",
       "      <td>-0.044215</td>\n",
       "      <td>-0.070229</td>\n",
       "      <td>-0.008509</td>\n",
       "      <td>-0.024032</td>\n",
       "      <td>-0.075765</td>\n",
       "      <td>-0.008010</td>\n",
       "      <td>-0.093299</td>\n",
       "    </tr>\n",
       "  </tbody>\n",
       "</table>\n",
       "<p>10 rows × 784 columns</p>\n",
       "</div>"
      ],
      "text/plain": [
       "        0         1         2         3         4         5         6    \\\n",
       "0 -0.015678 -0.091679 -0.090821 -0.023645 -0.059812 -0.020168 -0.071616   \n",
       "1 -0.038528 -0.087584 -0.065773 -0.061763 -0.034675 -0.096319 -0.005376   \n",
       "2 -0.083274 -0.028820 -0.032125 -0.026979 -0.025701 -0.019264 -0.025596   \n",
       "3 -0.071260 -0.058424 -0.053596 -0.021879 -0.048471 -0.037383 -0.044728   \n",
       "4 -0.081359 -0.055488 -0.043532 -0.032643 -0.016712 -0.099873 -0.077954   \n",
       "5 -0.047461 -0.077474 -0.087137 -0.027025 -0.038820 -0.047307 -0.063466   \n",
       "6 -0.075979 -0.085251 -0.007022 -0.054240 -0.052677 -0.076861 -0.080426   \n",
       "7 -0.092094 -0.052068 -0.068159 -0.017725 -0.071703 -0.040671 -0.039796   \n",
       "8 -0.030607 -0.056881 -0.059872 -0.027086 -0.029832 -0.070907 -0.015091   \n",
       "9 -0.019152 -0.008020 -0.096971 -0.093192 -0.070732 -0.047672 -0.003554   \n",
       "\n",
       "        7         8         9    ...       774       775       776       777  \\\n",
       "0 -0.056675 -0.041285 -0.006681  ... -0.053273 -0.074741 -0.063982 -0.087836   \n",
       "1 -0.034821 -0.052166 -0.074759  ... -0.092199 -0.018297 -0.033259 -0.073719   \n",
       "2 -0.029051 -0.055570 -0.099635  ... -0.078284 -0.063445 -0.011224 -0.034325   \n",
       "3 -0.091197 -0.038294 -0.034426  ... -0.098754 -0.059964 -0.013110 -0.001752   \n",
       "4 -0.093928 -0.041358 -0.047088  ... -0.093188 -0.012503 -0.090127 -0.096273   \n",
       "5 -0.021383 -0.006790 -0.062703  ... -0.057263 -0.029767 -0.012173 -0.056766   \n",
       "6 -0.071267 -0.066214 -0.050116  ... -0.074836 -0.070925 -0.094778 -0.086619   \n",
       "7 -0.056860 -0.086811 -0.032494  ... -0.029587 -0.055156 -0.087651 -0.086442   \n",
       "8 -0.047505 -0.086298 -0.056246  ... -0.048617 -0.008293 -0.068981 -0.070252   \n",
       "9 -0.025387 -0.086959 -0.081189  ... -0.090470 -0.017878 -0.020336 -0.044215   \n",
       "\n",
       "        778       779       780       781       782       783  \n",
       "0 -0.009737 -0.070373 -0.008279 -0.091316 -0.030536 -0.058513  \n",
       "1 -0.097689 -0.005035 -0.009377 -0.060589 -0.089320 -0.061819  \n",
       "2 -0.089650 -0.003487 -0.071366 -0.004575 -0.032885 -0.001986  \n",
       "3 -0.096417 -0.022852 -0.091007 -0.049297 -0.059632 -0.095661  \n",
       "4 -0.047611 -0.029785 -0.029176 -0.042954 -0.056103 -0.064027  \n",
       "5 -0.086015 -0.091683 -0.099110 -0.071590 -0.032279 -0.045839  \n",
       "6 -0.015053 -0.034413 -0.046129 -0.060461 -0.064466 -0.027755  \n",
       "7 -0.057887 -0.053353 -0.020576 -0.040260 -0.007311 -0.027274  \n",
       "8 -0.058920 -0.052436 -0.000150 -0.051018 -0.083980 -0.014524  \n",
       "9 -0.070229 -0.008509 -0.024032 -0.075765 -0.008010 -0.093299  \n",
       "\n",
       "[10 rows x 784 columns]"
      ]
     },
     "execution_count": 93,
     "metadata": {},
     "output_type": "execute_result"
    }
   ],
   "source": [
    "pd.DataFrame( gradEw )#.head()"
   ]
  },
  {
   "cell_type": "markdown",
   "metadata": {},
   "source": [
    "#### The approximations of the gradient"
   ]
  },
  {
   "cell_type": "code",
   "execution_count": 94,
   "metadata": {},
   "outputs": [
    {
     "data": {
      "text/html": [
       "<div>\n",
       "<style scoped>\n",
       "    .dataframe tbody tr th:only-of-type {\n",
       "        vertical-align: middle;\n",
       "    }\n",
       "\n",
       "    .dataframe tbody tr th {\n",
       "        vertical-align: top;\n",
       "    }\n",
       "\n",
       "    .dataframe thead th {\n",
       "        text-align: right;\n",
       "    }\n",
       "</style>\n",
       "<table border=\"1\" class=\"dataframe\">\n",
       "  <thead>\n",
       "    <tr style=\"text-align: right;\">\n",
       "      <th></th>\n",
       "      <th>0</th>\n",
       "      <th>1</th>\n",
       "      <th>2</th>\n",
       "      <th>3</th>\n",
       "      <th>4</th>\n",
       "      <th>5</th>\n",
       "      <th>6</th>\n",
       "      <th>7</th>\n",
       "      <th>8</th>\n",
       "      <th>9</th>\n",
       "      <th>...</th>\n",
       "      <th>774</th>\n",
       "      <th>775</th>\n",
       "      <th>776</th>\n",
       "      <th>777</th>\n",
       "      <th>778</th>\n",
       "      <th>779</th>\n",
       "      <th>780</th>\n",
       "      <th>781</th>\n",
       "      <th>782</th>\n",
       "      <th>783</th>\n",
       "    </tr>\n",
       "  </thead>\n",
       "  <tbody>\n",
       "    <tr>\n",
       "      <th>0</th>\n",
       "      <td>-0.015678</td>\n",
       "      <td>-0.091679</td>\n",
       "      <td>-0.090821</td>\n",
       "      <td>-0.023645</td>\n",
       "      <td>-0.059812</td>\n",
       "      <td>-0.020168</td>\n",
       "      <td>-0.071616</td>\n",
       "      <td>-0.056675</td>\n",
       "      <td>-0.041285</td>\n",
       "      <td>-0.006681</td>\n",
       "      <td>...</td>\n",
       "      <td>-0.053273</td>\n",
       "      <td>-0.074741</td>\n",
       "      <td>-0.063982</td>\n",
       "      <td>-0.087836</td>\n",
       "      <td>-0.009737</td>\n",
       "      <td>-0.070373</td>\n",
       "      <td>-0.008279</td>\n",
       "      <td>-0.091316</td>\n",
       "      <td>-0.030536</td>\n",
       "      <td>-0.058513</td>\n",
       "    </tr>\n",
       "    <tr>\n",
       "      <th>1</th>\n",
       "      <td>-0.038528</td>\n",
       "      <td>-0.087584</td>\n",
       "      <td>-0.065773</td>\n",
       "      <td>-0.061763</td>\n",
       "      <td>-0.034675</td>\n",
       "      <td>-0.096319</td>\n",
       "      <td>-0.005376</td>\n",
       "      <td>-0.034821</td>\n",
       "      <td>-0.052166</td>\n",
       "      <td>-0.074759</td>\n",
       "      <td>...</td>\n",
       "      <td>-0.092199</td>\n",
       "      <td>-0.018297</td>\n",
       "      <td>-0.033259</td>\n",
       "      <td>-0.073719</td>\n",
       "      <td>-0.097689</td>\n",
       "      <td>-0.005035</td>\n",
       "      <td>-0.009377</td>\n",
       "      <td>-0.060589</td>\n",
       "      <td>-0.089320</td>\n",
       "      <td>-0.061819</td>\n",
       "    </tr>\n",
       "    <tr>\n",
       "      <th>2</th>\n",
       "      <td>-0.083274</td>\n",
       "      <td>-0.028820</td>\n",
       "      <td>-0.032125</td>\n",
       "      <td>-0.026979</td>\n",
       "      <td>-0.025701</td>\n",
       "      <td>-0.019264</td>\n",
       "      <td>-0.025596</td>\n",
       "      <td>-0.029051</td>\n",
       "      <td>-0.055570</td>\n",
       "      <td>-0.099635</td>\n",
       "      <td>...</td>\n",
       "      <td>-0.078284</td>\n",
       "      <td>-0.063445</td>\n",
       "      <td>-0.011224</td>\n",
       "      <td>-0.034325</td>\n",
       "      <td>-0.089650</td>\n",
       "      <td>-0.003487</td>\n",
       "      <td>-0.071366</td>\n",
       "      <td>-0.004575</td>\n",
       "      <td>-0.032885</td>\n",
       "      <td>-0.001986</td>\n",
       "    </tr>\n",
       "    <tr>\n",
       "      <th>3</th>\n",
       "      <td>-0.071260</td>\n",
       "      <td>-0.058424</td>\n",
       "      <td>-0.053596</td>\n",
       "      <td>-0.021879</td>\n",
       "      <td>-0.048471</td>\n",
       "      <td>-0.037383</td>\n",
       "      <td>-0.044728</td>\n",
       "      <td>-0.091197</td>\n",
       "      <td>-0.038294</td>\n",
       "      <td>-0.034426</td>\n",
       "      <td>...</td>\n",
       "      <td>-0.098754</td>\n",
       "      <td>-0.059964</td>\n",
       "      <td>-0.013110</td>\n",
       "      <td>-0.001752</td>\n",
       "      <td>-0.096417</td>\n",
       "      <td>-0.022852</td>\n",
       "      <td>-0.091007</td>\n",
       "      <td>-0.049297</td>\n",
       "      <td>-0.059632</td>\n",
       "      <td>-0.095661</td>\n",
       "    </tr>\n",
       "    <tr>\n",
       "      <th>4</th>\n",
       "      <td>-0.081359</td>\n",
       "      <td>-0.055488</td>\n",
       "      <td>-0.043532</td>\n",
       "      <td>-0.032643</td>\n",
       "      <td>-0.016712</td>\n",
       "      <td>-0.099873</td>\n",
       "      <td>-0.077954</td>\n",
       "      <td>-0.093928</td>\n",
       "      <td>-0.041358</td>\n",
       "      <td>-0.047088</td>\n",
       "      <td>...</td>\n",
       "      <td>-0.093188</td>\n",
       "      <td>-0.012503</td>\n",
       "      <td>-0.090127</td>\n",
       "      <td>-0.096273</td>\n",
       "      <td>-0.047611</td>\n",
       "      <td>-0.029785</td>\n",
       "      <td>-0.029176</td>\n",
       "      <td>-0.042954</td>\n",
       "      <td>-0.056103</td>\n",
       "      <td>-0.064027</td>\n",
       "    </tr>\n",
       "  </tbody>\n",
       "</table>\n",
       "<p>5 rows × 784 columns</p>\n",
       "</div>"
      ],
      "text/plain": [
       "        0         1         2         3         4         5         6    \\\n",
       "0 -0.015678 -0.091679 -0.090821 -0.023645 -0.059812 -0.020168 -0.071616   \n",
       "1 -0.038528 -0.087584 -0.065773 -0.061763 -0.034675 -0.096319 -0.005376   \n",
       "2 -0.083274 -0.028820 -0.032125 -0.026979 -0.025701 -0.019264 -0.025596   \n",
       "3 -0.071260 -0.058424 -0.053596 -0.021879 -0.048471 -0.037383 -0.044728   \n",
       "4 -0.081359 -0.055488 -0.043532 -0.032643 -0.016712 -0.099873 -0.077954   \n",
       "\n",
       "        7         8         9    ...       774       775       776       777  \\\n",
       "0 -0.056675 -0.041285 -0.006681  ... -0.053273 -0.074741 -0.063982 -0.087836   \n",
       "1 -0.034821 -0.052166 -0.074759  ... -0.092199 -0.018297 -0.033259 -0.073719   \n",
       "2 -0.029051 -0.055570 -0.099635  ... -0.078284 -0.063445 -0.011224 -0.034325   \n",
       "3 -0.091197 -0.038294 -0.034426  ... -0.098754 -0.059964 -0.013110 -0.001752   \n",
       "4 -0.093928 -0.041358 -0.047088  ... -0.093188 -0.012503 -0.090127 -0.096273   \n",
       "\n",
       "        778       779       780       781       782       783  \n",
       "0 -0.009737 -0.070373 -0.008279 -0.091316 -0.030536 -0.058513  \n",
       "1 -0.097689 -0.005035 -0.009377 -0.060589 -0.089320 -0.061819  \n",
       "2 -0.089650 -0.003487 -0.071366 -0.004575 -0.032885 -0.001986  \n",
       "3 -0.096417 -0.022852 -0.091007 -0.049297 -0.059632 -0.095661  \n",
       "4 -0.047611 -0.029785 -0.029176 -0.042954 -0.056103 -0.064027  \n",
       "\n",
       "[5 rows x 784 columns]"
      ]
     },
     "execution_count": 94,
     "metadata": {},
     "output_type": "execute_result"
    }
   ],
   "source": [
    "pd.DataFrame( numericalGrad ).head()"
   ]
  },
  {
   "cell_type": "markdown",
   "metadata": {},
   "source": [
    "<h2> Training </h2>"
   ]
  },
  {
   "cell_type": "code",
   "execution_count": 95,
   "metadata": {
    "scrolled": false
   },
   "outputs": [
    {
     "name": "stdout",
     "output_type": "stream",
     "text": [
      "Iteration : 50, Cost function :-27854.823742\n",
      "Iteration : 100, Cost function :-23820.394541\n",
      "Iteration : 150, Cost function :-22110.671985\n",
      "Iteration : 200, Cost function :-21104.771803\n",
      "Iteration : 250, Cost function :-20421.159706\n",
      "Iteration : 300, Cost function :-19916.896390\n",
      "Iteration : 350, Cost function :-19524.642306\n",
      "Iteration : 400, Cost function :-19207.904754\n",
      "Iteration : 450, Cost function :-18944.933604\n",
      "Iteration : 500, Cost function :-18721.840479\n"
     ]
    }
   ],
   "source": [
    "# N of X\n",
    "N, D = X_train.shape\n",
    "\n",
    "K = 10\n",
    "\n",
    "# initialize w for the gradient ascent\n",
    "Winit = np.zeros((K, D))\n",
    "\n",
    "# regularization parameter\n",
    "lamda = 0.1\n",
    "\n",
    "# options for gradient descent\n",
    "options = [500, 1e-6, 0.5/N]\n",
    "\n",
    "#gradcheck_softmax(Winit, X_train, y_train, lamda)\n",
    "\n",
    "# Train the model\n",
    "W, costs = ml_softmax_train(y_train, X_train, lamda, Winit, options)"
   ]
  },
  {
   "cell_type": "code",
   "execution_count": 97,
   "metadata": {},
   "outputs": [
    {
     "data": {
      "image/png": "[encoded data removed]",
      "text/plain": [
       "<Figure size 432x288 with 1 Axes>"
      ]
     },
     "metadata": {
      "needs_background": "light"
     },
     "output_type": "display_data"
    }
   ],
   "source": [
    "plt.plot(np.squeeze(costs))\n",
    "plt.ylabel('cost')\n",
    "plt.xlabel('iterations (per tens)')\n",
    "plt.title(\"Learning rate =\" + str(format(options[2], 'f')))\n",
    "plt.show()"
   ]
  },
  {
   "cell_type": "markdown",
   "metadata": {},
   "source": [
    "<h2> Predict </h2>"
   ]
  },
  {
   "cell_type": "code",
   "execution_count": 98,
   "metadata": {
    "scrolled": true
   },
   "outputs": [],
   "source": [
    "def ml_softmax_test(W, X_test):\n",
    "    ytest = softmax( X_test.dot(W.T) )\n",
    "    # Hard classification decisions\n",
    "    ttest = np.argmax(ytest, 1)\n",
    "    return ttest"
   ]
  },
  {
   "cell_type": "code",
   "execution_count": 99,
   "metadata": {
    "scrolled": true
   },
   "outputs": [],
   "source": [
    "pred = ml_softmax_test(W, X_test)"
   ]
  },
  {
   "cell_type": "markdown",
   "metadata": {},
   "source": [
    "<h2> Accuracy </h2>"
   ]
  },
  {
   "cell_type": "code",
   "execution_count": 100,
   "metadata": {},
   "outputs": [
    {
     "data": {
      "text/plain": [
       "0.9173"
      ]
     },
     "execution_count": 100,
     "metadata": {},
     "output_type": "execute_result"
    }
   ],
   "source": [
    "np.mean( pred == np.argmax(y_test,1) )"
   ]
  },
  {
   "cell_type": "markdown",
   "metadata": {},
   "source": [
    "Now lets take a look at our test data. Check out some of the misclassified test data."
   ]
  },
  {
   "cell_type": "code",
   "execution_count": 23,
   "metadata": {
    "scrolled": true
   },
   "outputs": [
    {
     "data": {
      "image/png": "[encoded data removed]",
      "text/plain": [
       "<matplotlib.figure.Figure at 0x7fcb4d5113c8>"
      ]
     },
     "metadata": {},
     "output_type": "display_data"
    }
   ],
   "source": [
    "faults = np.where(np.not_equal(np.argmax(y_test,1),pred))[0]\n",
    "# plot n misclassified examples from the Test set\n",
    "n = 25\n",
    "samples = np.random.choice(faults, n)\n",
    "sqrt_n = int( n ** 0.5 )\n",
    "\n",
    "plt.figure( figsize=(11,13) )\n",
    "\n",
    "cnt = 0\n",
    "for i in samples:\n",
    "    cnt += 1\n",
    "    plt.subplot( sqrt_n, sqrt_n, cnt )\n",
    "    plt.subplot( sqrt_n, sqrt_n, cnt ).axis('off')\n",
    "    plt.imshow( X_test[i,1:].reshape(28,28)*255, cmap='gray' )\n",
    "    plt.title(\"True: \"+str(np.argmax(y_test,1)[i])+ \"\\n Predicted: \"+ str(pred[i]))\n",
    "    \n",
    "plt.show()"
   ]
  },
  {
   "cell_type": "markdown",
   "metadata": {},
   "source": [
    "What is in the <strong>W</strong> weight array?"
   ]
  },
  {
   "cell_type": "code",
   "execution_count": 24,
   "metadata": {},
   "outputs": [
    {
     "data": {
      "image/png": "[encoded data removed]",
      "text/plain": [
       "<matplotlib.figure.Figure at 0x7fcb455b7b38>"
      ]
     },
     "metadata": {},
     "output_type": "display_data"
    }
   ],
   "source": [
    "plt.figure( figsize=(11,13) )\n",
    "cnt = 0\n",
    "for i in np.delete( W, 0, axis=1 ):\n",
    "    cnt+=1\n",
    "    plt.subplot( 1, 10, cnt ).axis('off')\n",
    "    plt.title( cnt-1 )\n",
    "    plt.imshow( i.reshape( (28,28) ).reshape(28,28)*255, cmap='gray' )\n",
    "plt.show()"
   ]
  },
  {
   "cell_type": "markdown",
   "metadata": {},
   "source": [
    "### Keras - Tensorflow"
   ]
  },
  {
   "cell_type": "markdown",
   "metadata": {},
   "source": [
    "tf.keras is TensorFlow's high-level API for building and training deep learning models."
   ]
  },
  {
   "cell_type": "code",
   "execution_count": 25,
   "metadata": {},
   "outputs": [
    {
     "name": "stderr",
     "output_type": "stream",
     "text": [
      "/home/sotirisnik/anaconda3/lib/python3.6/site-packages/h5py/__init__.py:34: FutureWarning: Conversion of the second argument of issubdtype from `float` to `np.floating` is deprecated. In future, it will be treated as `np.float64 == np.dtype(float).type`.\n",
      "  from ._conv import register_converters as _register_converters\n"
     ]
    }
   ],
   "source": [
    "import tensorflow as tf\n",
    "from tensorflow.keras.layers import *"
   ]
  },
  {
   "cell_type": "markdown",
   "metadata": {},
   "source": [
    "The needed version of running this experiment was tensorflow 1.13.1"
   ]
  },
  {
   "cell_type": "code",
   "execution_count": 26,
   "metadata": {},
   "outputs": [
    {
     "data": {
      "text/plain": [
       "'1.13.1'"
      ]
     },
     "execution_count": 26,
     "metadata": {},
     "output_type": "execute_result"
    }
   ],
   "source": [
    "tf.__version__"
   ]
  },
  {
   "cell_type": "markdown",
   "metadata": {},
   "source": [
    "First let's remove the columns of 1 we had inserted in our data"
   ]
  },
  {
   "cell_type": "code",
   "execution_count": 27,
   "metadata": {},
   "outputs": [
    {
     "data": {
      "text/plain": [
       "((60000, 785), (60000, 10))"
      ]
     },
     "execution_count": 27,
     "metadata": {},
     "output_type": "execute_result"
    }
   ],
   "source": [
    "X_train.shape, y_train.shape"
   ]
  },
  {
   "cell_type": "code",
   "execution_count": 28,
   "metadata": {},
   "outputs": [],
   "source": [
    "#help( np.delete )"
   ]
  },
  {
   "cell_type": "code",
   "execution_count": 29,
   "metadata": {},
   "outputs": [
    {
     "data": {
      "text/plain": [
       "784"
      ]
     },
     "execution_count": 29,
     "metadata": {},
     "output_type": "execute_result"
    }
   ],
   "source": [
    "28*28"
   ]
  },
  {
   "cell_type": "markdown",
   "metadata": {},
   "source": [
    "axis=1 refers that it will delete columns, meanwhile axis=0 would refer to rows"
   ]
  },
  {
   "cell_type": "code",
   "execution_count": 30,
   "metadata": {},
   "outputs": [
    {
     "data": {
      "text/plain": [
       "(60000, 784)"
      ]
     },
     "execution_count": 30,
     "metadata": {},
     "output_type": "execute_result"
    }
   ],
   "source": [
    "np.delete( X_train, 0, axis=1 ).shape#delete first column"
   ]
  },
  {
   "cell_type": "code",
   "execution_count": 31,
   "metadata": {},
   "outputs": [],
   "source": [
    "X_train = np.delete( X_train, 0, axis=1 )"
   ]
  },
  {
   "cell_type": "code",
   "execution_count": 32,
   "metadata": {},
   "outputs": [],
   "source": [
    "X_test = np.delete( X_test, 0, axis=1 )"
   ]
  },
  {
   "cell_type": "markdown",
   "metadata": {},
   "source": [
    "Next we just check image format on how to prepare our data. It could be either\n",
    "\n",
    "(img_rows,img_cols,img_channels)\n",
    "or\n",
    "(img_channels,img_rows,img_cols)mn\n",
    "\n",
    "In our case the channel will go to the last column."
   ]
  },
  {
   "cell_type": "code",
   "execution_count": 33,
   "metadata": {},
   "outputs": [
    {
     "name": "stdout",
     "output_type": "stream",
     "text": [
      "channels_last\n",
      "(28, 28, 1)\n"
     ]
    }
   ],
   "source": [
    "print( tf.keras.backend.image_data_format() )\n",
    "img_rows, img_cols = 28, 28\n",
    "\n",
    "#channels = number of colors\n",
    "if tf.keras.backend.image_data_format() == 'channels_last':\n",
    "    X_train = X_train.reshape( (-1,img_rows,img_cols,1) )\n",
    "    X_test = X_test.reshape( (-1,img_rows,img_cols,1) )\n",
    "    input_shape = ( img_rows, img_cols, 1 )\n",
    "else:\n",
    "    X_train = X_train.reshape( (-1,1,img_rows,img_cols) )\n",
    "    X_test = X_test.reshape( (-1,1,img_rows,img_cols) )\n",
    "    input_shape = ( 1, img_rows, img_cols )\n",
    "num_classes = 10\n",
    "print( input_shape )"
   ]
  },
  {
   "cell_type": "code",
   "execution_count": 34,
   "metadata": {},
   "outputs": [
    {
     "data": {
      "text/plain": [
       "((60000, 28, 28, 1), (60000, 10))"
      ]
     },
     "execution_count": 34,
     "metadata": {},
     "output_type": "execute_result"
    }
   ],
   "source": [
    "X_train.shape, y_train.shape"
   ]
  },
  {
   "cell_type": "markdown",
   "metadata": {},
   "source": [
    "### Setting up our model"
   ]
  },
  {
   "cell_type": "code",
   "execution_count": 35,
   "metadata": {},
   "outputs": [],
   "source": [
    "batch_size = 128  "
   ]
  },
  {
   "cell_type": "code",
   "execution_count": 36,
   "metadata": {},
   "outputs": [
    {
     "name": "stdout",
     "output_type": "stream",
     "text": [
      "WARNING:tensorflow:From /home/sotirisnik/anaconda3/lib/python3.6/site-packages/tensorflow/python/ops/resource_variable_ops.py:435: colocate_with (from tensorflow.python.framework.ops) is deprecated and will be removed in a future version.\n",
      "Instructions for updating:\n",
      "Colocations handled automatically by placer.\n"
     ]
    }
   ],
   "source": [
    "model = tf.keras.Sequential()\n",
    "model.add( Conv2D(32, kernel_size=(3, 3),\n",
    "                 activation='relu',\n",
    "                 input_shape=input_shape))\n",
    "model.add( Conv2D(64, (3, 3), activation='relu') )\n",
    "model.add( MaxPooling2D(pool_size=(2, 2)) )\n",
    "model.add( Conv2D(64, (3, 3), activation='relu') )\n",
    "model.add( MaxPooling2D(pool_size=(2, 2)) )\n",
    "\n",
    "model.add(Flatten())\n",
    "\n",
    "model.add(Dense(128, activation='relu'))\n",
    "model.add(Dense(num_classes, activation='softmax'))\n",
    "\n",
    "model.compile( loss=tf.keras.losses.categorical_crossentropy,\n",
    "              optimizer=tf.keras.optimizers.Adam(),\n",
    "              metrics=['accuracy'] )"
   ]
  },
  {
   "cell_type": "code",
   "execution_count": 37,
   "metadata": {
    "scrolled": false
   },
   "outputs": [
    {
     "name": "stdout",
     "output_type": "stream",
     "text": [
      "Train on 60000 samples, validate on 10000 samples\n",
      "WARNING:tensorflow:From /home/sotirisnik/anaconda3/lib/python3.6/site-packages/tensorflow/python/ops/math_ops.py:3066: to_int32 (from tensorflow.python.ops.math_ops) is deprecated and will be removed in a future version.\n",
      "Instructions for updating:\n",
      "Use tf.cast instead.\n",
      "Epoch 1/10\n",
      "60000/60000 [==============================] - 21s 358us/sample - loss: 0.1106 - acc: 0.9651 - val_loss: 0.0499 - val_acc: 0.9828\n",
      "Epoch 2/10\n",
      "60000/60000 [==============================] - 19s 308us/sample - loss: 0.0390 - acc: 0.9884 - val_loss: 0.0293 - val_acc: 0.9905\n",
      "Epoch 3/10\n",
      "60000/60000 [==============================] - 18s 306us/sample - loss: 0.0262 - acc: 0.9920 - val_loss: 0.0257 - val_acc: 0.9918\n",
      "Epoch 4/10\n",
      "60000/60000 [==============================] - 19s 310us/sample - loss: 0.0192 - acc: 0.9943 - val_loss: 0.0303 - val_acc: 0.9904\n",
      "Epoch 5/10\n",
      "60000/60000 [==============================] - 18s 302us/sample - loss: 0.0158 - acc: 0.9950 - val_loss: 0.0312 - val_acc: 0.9904\n",
      "Epoch 6/10\n",
      "60000/60000 [==============================] - 18s 302us/sample - loss: 0.0109 - acc: 0.9965 - val_loss: 0.0415 - val_acc: 0.9898\n",
      "Epoch 7/10\n",
      "60000/60000 [==============================] - 18s 301us/sample - loss: 0.0097 - acc: 0.9969 - val_loss: 0.0329 - val_acc: 0.9915\n",
      "Epoch 8/10\n",
      "60000/60000 [==============================] - 18s 297us/sample - loss: 0.0089 - acc: 0.9971 - val_loss: 0.0270 - val_acc: 0.9934\n",
      "Epoch 9/10\n",
      "60000/60000 [==============================] - 19s 310us/sample - loss: 0.0073 - acc: 0.9977 - val_loss: 0.0403 - val_acc: 0.9909\n",
      "Epoch 10/10\n",
      "60000/60000 [==============================] - 19s 310us/sample - loss: 0.0074 - acc: 0.9976 - val_loss: 0.0340 - val_acc: 0.9916\n"
     ]
    }
   ],
   "source": [
    "model_log = model.fit( X_train, y_train, validation_data=(X_test,y_test), epochs=10)"
   ]
  },
  {
   "cell_type": "code",
   "execution_count": 38,
   "metadata": {},
   "outputs": [
    {
     "data": {
      "image/png": "[encoded data removed]",
      "text/plain": [
       "<matplotlib.figure.Figure at 0x7fcb4feec4a8>"
      ]
     },
     "metadata": {},
     "output_type": "display_data"
    },
    {
     "data": {
      "image/png": "[encoded data removed]",
      "text/plain": [
       "<matplotlib.figure.Figure at 0x7fcb45c58400>"
      ]
     },
     "metadata": {},
     "output_type": "display_data"
    }
   ],
   "source": [
    "# Plot training & validation accuracy values\n",
    "plt.plot( model_log.history['acc'])\n",
    "plt.plot( model_log.history['val_acc'])\n",
    "plt.title('Model accuracy')\n",
    "plt.ylabel('Accuracy')\n",
    "plt.xlabel('Epoch')\n",
    "plt.legend(['Train', 'Test'], loc='upper left')\n",
    "plt.show()\n",
    "\n",
    "# Plot training & validation loss values\n",
    "plt.plot(model_log.history['loss'])\n",
    "plt.plot( model_log.history['val_loss'])\n",
    "plt.title('Model loss')\n",
    "plt.ylabel('Loss')\n",
    "plt.xlabel('Epoch')\n",
    "plt.legend(['Train', 'Test'], loc='upper left')\n",
    "plt.show()"
   ]
  },
  {
   "cell_type": "markdown",
   "metadata": {},
   "source": [
    "### View Activations of Convolutional layers"
   ]
  },
  {
   "cell_type": "markdown",
   "metadata": {},
   "source": [
    "First we gather all the layers's output and we construct a model that given an input, it will return all of the activations back."
   ]
  },
  {
   "cell_type": "code",
   "execution_count": 39,
   "metadata": {},
   "outputs": [],
   "source": [
    "layer_outputs = [ layer.output for layer in model.layers ]\n",
    "activation_model = tf.keras.Model( inputs=model.input, outputs=layer_outputs )"
   ]
  },
  {
   "cell_type": "code",
   "execution_count": 40,
   "metadata": {},
   "outputs": [],
   "source": [
    "layer_names = [ layer.name for layer in model.layers ]"
   ]
  },
  {
   "cell_type": "code",
   "execution_count": 41,
   "metadata": {},
   "outputs": [],
   "source": [
    "img = X_train[0].reshape( (-1,28,28,1) )"
   ]
  },
  {
   "cell_type": "markdown",
   "metadata": {},
   "source": [
    "The image we will feed into the network will be"
   ]
  },
  {
   "cell_type": "code",
   "execution_count": 42,
   "metadata": {},
   "outputs": [
    {
     "data": {
      "text/plain": [
       "<matplotlib.image.AxesImage at 0x7fcb4d0722e8>"
      ]
     },
     "execution_count": 42,
     "metadata": {},
     "output_type": "execute_result"
    },
    {
     "data": {
      "image/png": "[encoded data removed]",
      "text/plain": [
       "<matplotlib.figure.Figure at 0x7fcb4cd58898>"
      ]
     },
     "metadata": {},
     "output_type": "display_data"
    }
   ],
   "source": [
    "plt.imshow( img.reshape((28,28)), cmap='gray' )"
   ]
  },
  {
   "cell_type": "markdown",
   "metadata": {},
   "source": [
    "So let's get the activations values"
   ]
  },
  {
   "cell_type": "code",
   "execution_count": 43,
   "metadata": {},
   "outputs": [],
   "source": [
    "activations = activation_model.predict(img)"
   ]
  },
  {
   "cell_type": "markdown",
   "metadata": {},
   "source": [
    "Think of the shapes in the form of (1,img_rows,img_cols,num_filters), so what is left to do, is to iterate through all num_filters and plot the\n",
    "\n",
    "img_rows $\\times$ img_cols images."
   ]
  },
  {
   "cell_type": "code",
   "execution_count": 44,
   "metadata": {},
   "outputs": [
    {
     "data": {
      "image/png": "[encoded data removed]",
      "text/plain": [
       "<matplotlib.figure.Figure at 0x7fcb4c7d4400>"
      ]
     },
     "metadata": {},
     "output_type": "display_data"
    },
    {
     "data": {
      "image/png": "[encoded data removed]",
      "text/plain": [
       "<matplotlib.figure.Figure at 0x7fcb462ab470>"
      ]
     },
     "metadata": {},
     "output_type": "display_data"
    },
    {
     "data": {
      "image/png": "[encoded data removed]",
      "text/plain": [
       "<matplotlib.figure.Figure at 0x7fc9cdaab6a0>"
      ]
     },
     "metadata": {},
     "output_type": "display_data"
    },
    {
     "data": {
      "image/png": "[encoded data removed]",
      "text/plain": [
       "<matplotlib.figure.Figure at 0x7fc9cc02e4a8>"
      ]
     },
     "metadata": {},
     "output_type": "display_data"
    },
    {
     "data": {
      "image/png": "[encoded data removed]",
      "text/plain": [
       "<matplotlib.figure.Figure at 0x7fc9ca5f7208>"
      ]
     },
     "metadata": {},
     "output_type": "display_data"
    }
   ],
   "source": [
    "for i, lname in zip( activations, layer_names ):\n",
    "    if len(i.shape) == 4:\n",
    "        fig = plt.figure( figsize=(11,11) )\n",
    "        ax = fig.add_subplot(9,16,1)\n",
    "        ax.title.set_text( lname )\n",
    "        num = i.shape[-1]\n",
    "        for k in range( num ):\n",
    "            tmp = i[:,:,:,k]\n",
    "            tmp = tmp.reshape( (tmp.shape[1], tmp.shape[2]) )\n",
    "            ax = fig.add_subplot(9,16,k+1)\n",
    "            ax.axis('off')\n",
    "            ax.imshow( tmp )\n",
    "plt.show()"
   ]
  }
 ],
 "metadata": {
  "kernelspec": {
   "display_name": "Python 3",
   "language": "python",
   "name": "python3"
  },
  "language_info": {
   "codemirror_mode": {
    "name": "ipython",
    "version": 3
   },
   "file_extension": ".py",
   "mimetype": "text/x-python",
   "name": "python",
   "nbconvert_exporter": "python",
   "pygments_lexer": "ipython3",
   "version": "3.6.8"
  }
 },
 "nbformat": 4,
 "nbformat_minor": 1
}
